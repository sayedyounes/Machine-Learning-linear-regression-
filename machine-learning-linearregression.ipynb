{
 "cells": [
  {
   "cell_type": "markdown",
   "id": "d0346ac0",
   "metadata": {
    "papermill": {
     "duration": 0.011699,
     "end_time": "2025-08-04T01:27:43.761675",
     "exception": false,
     "start_time": "2025-08-04T01:27:43.749976",
     "status": "completed"
    },
    "tags": []
   },
   "source": [
    "Explanation:\n",
    "\n",
    "pandas as pd\n",
    "Used for data manipulation and analysis. It provides data structures like DataFrame and functions for cleaning and transforming data.\n",
    "\n",
    "numpy as np\n",
    "Fundamental package for numerical computing in Python. It provides support for arrays, mathematical functions, and linear algebra.\n",
    "\n",
    "matplotlib.pyplot as plt\n",
    "Used for data visualization. It offers functions to create line plots, scatter plots, histograms, and more.\n",
    "\n",
    "from sklearn import linear_model\n",
    "Imports Scikit-learn’s linear modeling tools, including models like LinearRegression, LogisticRegression, and others.\n",
    "These are used for performing both regression and classification tasks.\n",
    "\n"
   ]
  },
  {
   "cell_type": "code",
   "execution_count": 1,
   "id": "916fe711",
   "metadata": {
    "execution": {
     "iopub.execute_input": "2025-08-04T01:27:43.789255Z",
     "iopub.status.busy": "2025-08-04T01:27:43.788705Z",
     "iopub.status.idle": "2025-08-04T01:27:46.729890Z",
     "shell.execute_reply": "2025-08-04T01:27:46.727962Z"
    },
    "papermill": {
     "duration": 2.958104,
     "end_time": "2025-08-04T01:27:46.732706",
     "exception": false,
     "start_time": "2025-08-04T01:27:43.774602",
     "status": "completed"
    },
    "tags": []
   },
   "outputs": [],
   "source": [
    "import pandas as pd\n",
    "import numpy as np\n",
    "import matplotlib.pyplot as plt\n",
    "from sklearn import linear_model"
   ]
  },
  {
   "cell_type": "markdown",
   "id": "51bec49d",
   "metadata": {
    "papermill": {
     "duration": 0.010492,
     "end_time": "2025-08-04T01:27:46.754394",
     "exception": false,
     "start_time": "2025-08-04T01:27:46.743902",
     "status": "completed"
    },
    "tags": []
   },
   "source": [
    "# Creating a Simple Housing Dataset"
   ]
  },
  {
   "cell_type": "code",
   "execution_count": 2,
   "id": "605db224",
   "metadata": {
    "execution": {
     "iopub.execute_input": "2025-08-04T01:27:46.780405Z",
     "iopub.status.busy": "2025-08-04T01:27:46.779738Z",
     "iopub.status.idle": "2025-08-04T01:27:46.805526Z",
     "shell.execute_reply": "2025-08-04T01:27:46.804128Z"
    },
    "papermill": {
     "duration": 0.041953,
     "end_time": "2025-08-04T01:27:46.807773",
     "exception": false,
     "start_time": "2025-08-04T01:27:46.765820",
     "status": "completed"
    },
    "tags": []
   },
   "outputs": [
    {
     "data": {
      "text/html": [
       "<div>\n",
       "<style scoped>\n",
       "    .dataframe tbody tr th:only-of-type {\n",
       "        vertical-align: middle;\n",
       "    }\n",
       "\n",
       "    .dataframe tbody tr th {\n",
       "        vertical-align: top;\n",
       "    }\n",
       "\n",
       "    .dataframe thead th {\n",
       "        text-align: right;\n",
       "    }\n",
       "</style>\n",
       "<table border=\"1\" class=\"dataframe\">\n",
       "  <thead>\n",
       "    <tr style=\"text-align: right;\">\n",
       "      <th></th>\n",
       "      <th>area</th>\n",
       "      <th>price</th>\n",
       "    </tr>\n",
       "  </thead>\n",
       "  <tbody>\n",
       "    <tr>\n",
       "      <th>0</th>\n",
       "      <td>2600</td>\n",
       "      <td>550000</td>\n",
       "    </tr>\n",
       "    <tr>\n",
       "      <th>1</th>\n",
       "      <td>3000</td>\n",
       "      <td>565000</td>\n",
       "    </tr>\n",
       "    <tr>\n",
       "      <th>2</th>\n",
       "      <td>3200</td>\n",
       "      <td>610000</td>\n",
       "    </tr>\n",
       "    <tr>\n",
       "      <th>3</th>\n",
       "      <td>3600</td>\n",
       "      <td>680000</td>\n",
       "    </tr>\n",
       "    <tr>\n",
       "      <th>4</th>\n",
       "      <td>4000</td>\n",
       "      <td>725000</td>\n",
       "    </tr>\n",
       "  </tbody>\n",
       "</table>\n",
       "</div>"
      ],
      "text/plain": [
       "   area   price\n",
       "0  2600  550000\n",
       "1  3000  565000\n",
       "2  3200  610000\n",
       "3  3600  680000\n",
       "4  4000  725000"
      ]
     },
     "execution_count": 2,
     "metadata": {},
     "output_type": "execute_result"
    }
   ],
   "source": [
    "data = pd.DataFrame({'area': [2600,3000,3200,3600,4000],\n",
    "       'price': [550000, 565000,610000,680000,725000]\n",
    "       })\n",
    "data"
   ]
  },
  {
   "cell_type": "code",
   "execution_count": 3,
   "id": "2941b822",
   "metadata": {
    "execution": {
     "iopub.execute_input": "2025-08-04T01:27:46.836030Z",
     "iopub.status.busy": "2025-08-04T01:27:46.835655Z",
     "iopub.status.idle": "2025-08-04T01:27:47.244570Z",
     "shell.execute_reply": "2025-08-04T01:27:47.243522Z"
    },
    "papermill": {
     "duration": 0.427829,
     "end_time": "2025-08-04T01:27:47.247168",
     "exception": false,
     "start_time": "2025-08-04T01:27:46.819339",
     "status": "completed"
    },
    "tags": []
   },
   "outputs": [
    {
     "data": {
      "image/png": "[encoded data removed]",
      "text/plain": [
       "<Figure size 640x480 with 1 Axes>"
      ]
     },
     "metadata": {},
     "output_type": "display_data"
    }
   ],
   "source": [
    "plt.scatter(data.area, data.price)\n",
    "plt.xlabel('area')\n",
    "plt.ylabel('price')\n",
    "plt.title('@')\n",
    "plt.show()"
   ]
  },
  {
   "cell_type": "markdown",
   "id": "f13a2c32",
   "metadata": {
    "papermill": {
     "duration": 0.010645,
     "end_time": "2025-08-04T01:27:47.268823",
     "exception": false,
     "start_time": "2025-08-04T01:27:47.258178",
     "status": "completed"
    },
    "tags": []
   },
   "source": [
    "Training a Linear Regression Model.\n",
    "\n",
    "LinearRegression():\n",
    "Creates a linear regression model from Scikit-learn’s linear_model module. This model finds the best-fit line that predicts price based on area."
   ]
  },
  {
   "cell_type": "code",
   "execution_count": 4,
   "id": "b7d3fd62",
   "metadata": {
    "execution": {
     "iopub.execute_input": "2025-08-04T01:27:47.293801Z",
     "iopub.status.busy": "2025-08-04T01:27:47.293404Z",
     "iopub.status.idle": "2025-08-04T01:27:47.323222Z",
     "shell.execute_reply": "2025-08-04T01:27:47.322000Z"
    },
    "papermill": {
     "duration": 0.045253,
     "end_time": "2025-08-04T01:27:47.325652",
     "exception": false,
     "start_time": "2025-08-04T01:27:47.280399",
     "status": "completed"
    },
    "tags": []
   },
   "outputs": [
    {
     "data": {
      "text/html": [
       "<style>#sk-container-id-1 {color: black;background-color: white;}#sk-container-id-1 pre{padding: 0;}#sk-container-id-1 div.sk-toggleable {background-color: white;}#sk-container-id-1 label.sk-toggleable__label {cursor: pointer;display: block;width: 100%;margin-bottom: 0;padding: 0.3em;box-sizing: border-box;text-align: center;}#sk-container-id-1 label.sk-toggleable__label-arrow:before {content: \"▸\";float: left;margin-right: 0.25em;color: #696969;}#sk-container-id-1 label.sk-toggleable__label-arrow:hover:before {color: black;}#sk-container-id-1 div.sk-estimator:hover label.sk-toggleable__label-arrow:before {color: black;}#sk-container-id-1 div.sk-toggleable__content {max-height: 0;max-width: 0;overflow: hidden;text-align: left;background-color: #f0f8ff;}#sk-container-id-1 div.sk-toggleable__content pre {margin: 0.2em;color: black;border-radius: 0.25em;background-color: #f0f8ff;}#sk-container-id-1 input.sk-toggleable__control:checked~div.sk-toggleable__content {max-height: 200px;max-width: 100%;overflow: auto;}#sk-container-id-1 input.sk-toggleable__control:checked~label.sk-toggleable__label-arrow:before {content: \"▾\";}#sk-container-id-1 div.sk-estimator input.sk-toggleable__control:checked~label.sk-toggleable__label {background-color: #d4ebff;}#sk-container-id-1 div.sk-label input.sk-toggleable__control:checked~label.sk-toggleable__label {background-color: #d4ebff;}#sk-container-id-1 input.sk-hidden--visually {border: 0;clip: rect(1px 1px 1px 1px);clip: rect(1px, 1px, 1px, 1px);height: 1px;margin: -1px;overflow: hidden;padding: 0;position: absolute;width: 1px;}#sk-container-id-1 div.sk-estimator {font-family: monospace;background-color: #f0f8ff;border: 1px dotted black;border-radius: 0.25em;box-sizing: border-box;margin-bottom: 0.5em;}#sk-container-id-1 div.sk-estimator:hover {background-color: #d4ebff;}#sk-container-id-1 div.sk-parallel-item::after {content: \"\";width: 100%;border-bottom: 1px solid gray;flex-grow: 1;}#sk-container-id-1 div.sk-label:hover label.sk-toggleable__label {background-color: #d4ebff;}#sk-container-id-1 div.sk-serial::before {content: \"\";position: absolute;border-left: 1px solid gray;box-sizing: border-box;top: 0;bottom: 0;left: 50%;z-index: 0;}#sk-container-id-1 div.sk-serial {display: flex;flex-direction: column;align-items: center;background-color: white;padding-right: 0.2em;padding-left: 0.2em;position: relative;}#sk-container-id-1 div.sk-item {position: relative;z-index: 1;}#sk-container-id-1 div.sk-parallel {display: flex;align-items: stretch;justify-content: center;background-color: white;position: relative;}#sk-container-id-1 div.sk-item::before, #sk-container-id-1 div.sk-parallel-item::before {content: \"\";position: absolute;border-left: 1px solid gray;box-sizing: border-box;top: 0;bottom: 0;left: 50%;z-index: -1;}#sk-container-id-1 div.sk-parallel-item {display: flex;flex-direction: column;z-index: 1;position: relative;background-color: white;}#sk-container-id-1 div.sk-parallel-item:first-child::after {align-self: flex-end;width: 50%;}#sk-container-id-1 div.sk-parallel-item:last-child::after {align-self: flex-start;width: 50%;}#sk-container-id-1 div.sk-parallel-item:only-child::after {width: 0;}#sk-container-id-1 div.sk-dashed-wrapped {border: 1px dashed gray;margin: 0 0.4em 0.5em 0.4em;box-sizing: border-box;padding-bottom: 0.4em;background-color: white;}#sk-container-id-1 div.sk-label label {font-family: monospace;font-weight: bold;display: inline-block;line-height: 1.2em;}#sk-container-id-1 div.sk-label-container {text-align: center;}#sk-container-id-1 div.sk-container {/* jupyter's `normalize.less` sets `[hidden] { display: none; }` but bootstrap.min.css set `[hidden] { display: none !important; }` so we also need the `!important` here to be able to override the default hidden behavior on the sphinx rendered scikit-learn.org. See: https://github.com/scikit-learn/scikit-learn/issues/21755 */display: inline-block !important;position: relative;}#sk-container-id-1 div.sk-text-repr-fallback {display: none;}</style><div id=\"sk-container-id-1\" class=\"sk-top-container\"><div class=\"sk-text-repr-fallback\"><pre>LinearRegression()</pre><b>In a Jupyter environment, please rerun this cell to show the HTML representation or trust the notebook. <br />On GitHub, the HTML representation is unable to render, please try loading this page with nbviewer.org.</b></div><div class=\"sk-container\" hidden><div class=\"sk-item\"><div class=\"sk-estimator sk-toggleable\"><input class=\"sk-toggleable__control sk-hidden--visually\" id=\"sk-estimator-id-1\" type=\"checkbox\" checked><label for=\"sk-estimator-id-1\" class=\"sk-toggleable__label sk-toggleable__label-arrow\">LinearRegression</label><div class=\"sk-toggleable__content\"><pre>LinearRegression()</pre></div></div></div></div></div>"
      ],
      "text/plain": [
       "LinearRegression()"
      ]
     },
     "execution_count": 4,
     "metadata": {},
     "output_type": "execute_result"
    }
   ],
   "source": [
    "reg = linear_model.LinearRegression()\n",
    "reg.fit(data[['area']],data.price)"
   ]
  },
  {
   "cell_type": "markdown",
   "id": "8e81511c",
   "metadata": {
    "papermill": {
     "duration": 0.011731,
     "end_time": "2025-08-04T01:27:47.349624",
     "exception": false,
     "start_time": "2025-08-04T01:27:47.337893",
     "status": "completed"
    },
    "tags": []
   },
   "source": [
    "This uses the trained linear regression model to predict the price of a house with an area of 3300 square feet."
   ]
  },
  {
   "cell_type": "code",
   "execution_count": 5,
   "id": "9f8ec6dc",
   "metadata": {
    "execution": {
     "iopub.execute_input": "2025-08-04T01:27:47.374182Z",
     "iopub.status.busy": "2025-08-04T01:27:47.373786Z",
     "iopub.status.idle": "2025-08-04T01:27:47.382440Z",
     "shell.execute_reply": "2025-08-04T01:27:47.381011Z"
    },
    "papermill": {
     "duration": 0.02417,
     "end_time": "2025-08-04T01:27:47.384910",
     "exception": false,
     "start_time": "2025-08-04T01:27:47.360740",
     "status": "completed"
    },
    "tags": []
   },
   "outputs": [
    {
     "name": "stdout",
     "output_type": "stream",
     "text": [
      "Predicted price for 3300 sq ft: $628,715.75\n"
     ]
    },
    {
     "name": "stderr",
     "output_type": "stream",
     "text": [
      "/opt/conda/lib/python3.10/site-packages/sklearn/base.py:439: UserWarning: X does not have valid feature names, but LinearRegression was fitted with feature names\n",
      "  warnings.warn(\n"
     ]
    }
   ],
   "source": [
    "predicted_price=reg.predict([[3300]])\n",
    "print(f\"Predicted price for 3300 sq ft: ${predicted_price[0]:,.2f}\")"
   ]
  },
  {
   "cell_type": "markdown",
   "id": "7c9765cd",
   "metadata": {
    "papermill": {
     "duration": 0.010757,
     "end_time": "2025-08-04T01:27:47.407158",
     "exception": false,
     "start_time": "2025-08-04T01:27:47.396401",
     "status": "completed"
    },
    "tags": []
   },
   "source": [
    "Getting the Slope (Coefficient) of the Linear Model.\n",
    "Explanation:\n",
    "\n",
    "This returns the coefficient (also called the slope) of the trained linear regression model.\n",
    "\n",
    "In this context, it represents the estimated change in price per additional square foot of house area.\n",
    "\n",
    "For every additional 1 square foot of area, the predicted house price increases by approximately $135.79."
   ]
  },
  {
   "cell_type": "code",
   "execution_count": 6,
   "id": "3878f7d0",
   "metadata": {
    "execution": {
     "iopub.execute_input": "2025-08-04T01:27:47.432065Z",
     "iopub.status.busy": "2025-08-04T01:27:47.431688Z",
     "iopub.status.idle": "2025-08-04T01:27:47.437161Z",
     "shell.execute_reply": "2025-08-04T01:27:47.435934Z"
    },
    "papermill": {
     "duration": 0.021604,
     "end_time": "2025-08-04T01:27:47.439724",
     "exception": false,
     "start_time": "2025-08-04T01:27:47.418120",
     "status": "completed"
    },
    "tags": []
   },
   "outputs": [
    {
     "name": "stdout",
     "output_type": "stream",
     "text": [
      "Price increases by $135.79 per additional sq ft\n"
     ]
    }
   ],
   "source": [
    "reg.coef_\n",
    "\n",
    "print(f\"Price increases by ${reg.coef_[0]:,.2f} per additional sq ft\")\n"
   ]
  },
  {
   "cell_type": "markdown",
   "id": "b77514fe",
   "metadata": {
    "papermill": {
     "duration": 0.011386,
     "end_time": "2025-08-04T01:27:47.462354",
     "exception": false,
     "start_time": "2025-08-04T01:27:47.450968",
     "status": "completed"
    },
    "tags": []
   },
   "source": [
    "Explanation:\n",
    "\n",
    "This returns the intercept of the trained linear regression model.\n",
    "\n",
    "It represents the predicted price when the area is 0 square feet.\n",
    "\n",
    "In the equation of a line:"
   ]
  },
  {
   "cell_type": "code",
   "execution_count": 7,
   "id": "5c469746",
   "metadata": {
    "execution": {
     "iopub.execute_input": "2025-08-04T01:27:47.490534Z",
     "iopub.status.busy": "2025-08-04T01:27:47.489511Z",
     "iopub.status.idle": "2025-08-04T01:27:47.496750Z",
     "shell.execute_reply": "2025-08-04T01:27:47.495543Z"
    },
    "papermill": {
     "duration": 0.023492,
     "end_time": "2025-08-04T01:27:47.499011",
     "exception": false,
     "start_time": "2025-08-04T01:27:47.475519",
     "status": "completed"
    },
    "tags": []
   },
   "outputs": [
    {
     "data": {
      "text/plain": [
       "180616.43835616432"
      ]
     },
     "execution_count": 7,
     "metadata": {},
     "output_type": "execute_result"
    }
   ],
   "source": [
    "reg.intercept_"
   ]
  },
  {
   "cell_type": "markdown",
   "id": "b5423a16",
   "metadata": {
    "papermill": {
     "duration": 0.011444,
     "end_time": "2025-08-04T01:27:47.522273",
     "exception": false,
     "start_time": "2025-08-04T01:27:47.510829",
     "status": "completed"
    },
    "tags": []
   },
   "source": [
    "# m=coef, b=intercept, mx+b"
   ]
  },
  {
   "cell_type": "code",
   "execution_count": 8,
   "id": "6c2a4839",
   "metadata": {
    "execution": {
     "iopub.execute_input": "2025-08-04T01:27:47.551755Z",
     "iopub.status.busy": "2025-08-04T01:27:47.551362Z",
     "iopub.status.idle": "2025-08-04T01:27:47.558600Z",
     "shell.execute_reply": "2025-08-04T01:27:47.557423Z"
    },
    "papermill": {
     "duration": 0.024858,
     "end_time": "2025-08-04T01:27:47.561016",
     "exception": false,
     "start_time": "2025-08-04T01:27:47.536158",
     "status": "completed"
    },
    "tags": []
   },
   "outputs": [
    {
     "data": {
      "text/plain": [
       "628715.7534151643"
      ]
     },
     "execution_count": 8,
     "metadata": {},
     "output_type": "execute_result"
    }
   ],
   "source": [
    "135.78767123*3300+180616.43835616432"
   ]
  },
  {
   "cell_type": "code",
   "execution_count": 9,
   "id": "e46382ce",
   "metadata": {
    "execution": {
     "iopub.execute_input": "2025-08-04T01:27:47.586604Z",
     "iopub.status.busy": "2025-08-04T01:27:47.586171Z",
     "iopub.status.idle": "2025-08-04T01:27:47.594163Z",
     "shell.execute_reply": "2025-08-04T01:27:47.593008Z"
    },
    "papermill": {
     "duration": 0.024671,
     "end_time": "2025-08-04T01:27:47.597219",
     "exception": false,
     "start_time": "2025-08-04T01:27:47.572548",
     "status": "completed"
    },
    "tags": []
   },
   "outputs": [
    {
     "name": "stdout",
     "output_type": "stream",
     "text": [
      "Predicted price for 5000 sq ft: $859,554.79\n"
     ]
    },
    {
     "name": "stderr",
     "output_type": "stream",
     "text": [
      "/opt/conda/lib/python3.10/site-packages/sklearn/base.py:439: UserWarning: X does not have valid feature names, but LinearRegression was fitted with feature names\n",
      "  warnings.warn(\n"
     ]
    }
   ],
   "source": [
    "predicted_price = reg.predict([[5000]])\n",
    "print(f\"Predicted price for 5000 sq ft: ${predicted_price[0]:,.2f}\")"
   ]
  },
  {
   "cell_type": "markdown",
   "id": "c714fc06",
   "metadata": {
    "papermill": {
     "duration": 0.011504,
     "end_time": "2025-08-04T01:27:47.621461",
     "exception": false,
     "start_time": "2025-08-04T01:27:47.609957",
     "status": "completed"
    },
    "tags": []
   },
   "source": [
    "## Pandas Dataframe"
   ]
  },
  {
   "cell_type": "code",
   "execution_count": 10,
   "id": "cb665fd8",
   "metadata": {
    "execution": {
     "iopub.execute_input": "2025-08-04T01:27:47.648810Z",
     "iopub.status.busy": "2025-08-04T01:27:47.648415Z",
     "iopub.status.idle": "2025-08-04T01:27:47.659276Z",
     "shell.execute_reply": "2025-08-04T01:27:47.658084Z"
    },
    "papermill": {
     "duration": 0.027966,
     "end_time": "2025-08-04T01:27:47.661451",
     "exception": false,
     "start_time": "2025-08-04T01:27:47.633485",
     "status": "completed"
    },
    "tags": []
   },
   "outputs": [
    {
     "data": {
      "text/html": [
       "<div>\n",
       "<style scoped>\n",
       "    .dataframe tbody tr th:only-of-type {\n",
       "        vertical-align: middle;\n",
       "    }\n",
       "\n",
       "    .dataframe tbody tr th {\n",
       "        vertical-align: top;\n",
       "    }\n",
       "\n",
       "    .dataframe thead th {\n",
       "        text-align: right;\n",
       "    }\n",
       "</style>\n",
       "<table border=\"1\" class=\"dataframe\">\n",
       "  <thead>\n",
       "    <tr style=\"text-align: right;\">\n",
       "      <th></th>\n",
       "      <th>area</th>\n",
       "    </tr>\n",
       "  </thead>\n",
       "  <tbody>\n",
       "    <tr>\n",
       "      <th>0</th>\n",
       "      <td>1000</td>\n",
       "    </tr>\n",
       "    <tr>\n",
       "      <th>1</th>\n",
       "      <td>1500</td>\n",
       "    </tr>\n",
       "    <tr>\n",
       "      <th>2</th>\n",
       "      <td>2300</td>\n",
       "    </tr>\n",
       "    <tr>\n",
       "      <th>3</th>\n",
       "      <td>3540</td>\n",
       "    </tr>\n",
       "    <tr>\n",
       "      <th>4</th>\n",
       "      <td>4120</td>\n",
       "    </tr>\n",
       "    <tr>\n",
       "      <th>5</th>\n",
       "      <td>4560</td>\n",
       "    </tr>\n",
       "    <tr>\n",
       "      <th>6</th>\n",
       "      <td>5490</td>\n",
       "    </tr>\n",
       "    <tr>\n",
       "      <th>7</th>\n",
       "      <td>3460</td>\n",
       "    </tr>\n",
       "    <tr>\n",
       "      <th>8</th>\n",
       "      <td>4750</td>\n",
       "    </tr>\n",
       "    <tr>\n",
       "      <th>9</th>\n",
       "      <td>2300</td>\n",
       "    </tr>\n",
       "    <tr>\n",
       "      <th>10</th>\n",
       "      <td>9000</td>\n",
       "    </tr>\n",
       "    <tr>\n",
       "      <th>11</th>\n",
       "      <td>8600</td>\n",
       "    </tr>\n",
       "    <tr>\n",
       "      <th>12</th>\n",
       "      <td>7100</td>\n",
       "    </tr>\n",
       "  </tbody>\n",
       "</table>\n",
       "</div>"
      ],
      "text/plain": [
       "    area\n",
       "0   1000\n",
       "1   1500\n",
       "2   2300\n",
       "3   3540\n",
       "4   4120\n",
       "5   4560\n",
       "6   5490\n",
       "7   3460\n",
       "8   4750\n",
       "9   2300\n",
       "10  9000\n",
       "11  8600\n",
       "12  7100"
      ]
     },
     "execution_count": 10,
     "metadata": {},
     "output_type": "execute_result"
    }
   ],
   "source": [
    "d = pd.DataFrame({\n",
    "    'area': [1000,1500,2300,3540,4120,4560,5490,3460,4750,2300,9000,8600,7100]\n",
    "})\n",
    "d"
   ]
  },
  {
   "cell_type": "markdown",
   "id": "cac762a7",
   "metadata": {
    "papermill": {
     "duration": 0.01126,
     "end_time": "2025-08-04T01:27:47.684786",
     "exception": false,
     "start_time": "2025-08-04T01:27:47.673526",
     "status": "completed"
    },
    "tags": []
   },
   "source": [
    "## Predicting House Prices for Multiple Areas\n",
    "\n",
    "Explanation:\n",
    "\n",
    "This uses the trained linear regression model (reg) to predict house prices for all the values in the d['area'] column.\n",
    "\n",
    "The result, p, is a NumPy array of predicted prices that corresponds to each house size in d.\n",
    "\n"
   ]
  },
  {
   "cell_type": "code",
   "execution_count": 11,
   "id": "90446d14",
   "metadata": {
    "execution": {
     "iopub.execute_input": "2025-08-04T01:27:47.712306Z",
     "iopub.status.busy": "2025-08-04T01:27:47.711610Z",
     "iopub.status.idle": "2025-08-04T01:27:47.720037Z",
     "shell.execute_reply": "2025-08-04T01:27:47.718685Z"
    },
    "papermill": {
     "duration": 0.024182,
     "end_time": "2025-08-04T01:27:47.722321",
     "exception": false,
     "start_time": "2025-08-04T01:27:47.698139",
     "status": "completed"
    },
    "tags": []
   },
   "outputs": [],
   "source": [
    "p = reg.predict(d)"
   ]
  },
  {
   "cell_type": "markdown",
   "id": "e5a5a739",
   "metadata": {
    "papermill": {
     "duration": 0.012087,
     "end_time": "2025-08-04T01:27:47.748158",
     "exception": false,
     "start_time": "2025-08-04T01:27:47.736071",
     "status": "completed"
    },
    "tags": []
   },
   "source": [
    "### Adding Predicted Prices to the DataFrame\n",
    "\n",
    "Explanation:\n",
    "\n",
    "This line adds a new column called 'prices' to the DataFrame d.\n",
    "\n",
    "It assigns the predicted house prices (from the model) to each corresponding house area."
   ]
  },
  {
   "cell_type": "code",
   "execution_count": 12,
   "id": "214f4af0",
   "metadata": {
    "execution": {
     "iopub.execute_input": "2025-08-04T01:27:47.775241Z",
     "iopub.status.busy": "2025-08-04T01:27:47.774868Z",
     "iopub.status.idle": "2025-08-04T01:27:47.781179Z",
     "shell.execute_reply": "2025-08-04T01:27:47.780077Z"
    },
    "papermill": {
     "duration": 0.022459,
     "end_time": "2025-08-04T01:27:47.783720",
     "exception": false,
     "start_time": "2025-08-04T01:27:47.761261",
     "status": "completed"
    },
    "tags": []
   },
   "outputs": [],
   "source": [
    "d['prices'] = p"
   ]
  },
  {
   "cell_type": "markdown",
   "id": "d356961a",
   "metadata": {
    "papermill": {
     "duration": 0.012233,
     "end_time": "2025-08-04T01:27:47.867767",
     "exception": false,
     "start_time": "2025-08-04T01:27:47.855534",
     "status": "completed"
    },
    "tags": []
   },
   "source": [
    "This will convert the prices column to a string with two decimal places "
   ]
  },
  {
   "cell_type": "markdown",
   "id": "21544789",
   "metadata": {
    "papermill": {
     "duration": 0.01168,
     "end_time": "2025-08-04T01:27:47.892491",
     "exception": false,
     "start_time": "2025-08-04T01:27:47.880811",
     "status": "completed"
    },
    "tags": []
   },
   "source": [
    "x is the argument (each value in the prices column).\n",
    "\n",
    "f\"${x:,.2f}\" is the expression that formats the value x as a string.\n",
    "\n",
    "f\"${x:,.2f}\" Formatting:\n",
    "This part is using f-string formatting (formatted string literals), which is a way to embed expressions inside string literals. The format inside the curly braces {} defines how x should be displayed.\n",
    "\n",
    "$: This adds the dollar sign at the start of the formatted string.\n",
    "\n",
    "x: The value of x (the price) is what you are formatting.\n",
    "\n",
    ":: The colon (:) starts the formatting specifiers.\n",
    "\n",
    "**,**: The comma adds a thousands separator, which is commonly used in numbers to make them more readable (e.g., 1,000instead of1000`).\n",
    "\n",
    ".2f:\n",
    "\n",
    ".2 specifies the number of decimal places you want to display. In this case, it's 2 decimal places (e.g., 316404.11).\n",
    "\n",
    "f stands for floating-point number. It tells Python to format the number as a float, meaning you want to show decimal places.\n",
    "\n"
   ]
  },
  {
   "cell_type": "code",
   "execution_count": 13,
   "id": "67070a8c",
   "metadata": {
    "execution": {
     "iopub.execute_input": "2025-08-04T01:27:47.918305Z",
     "iopub.status.busy": "2025-08-04T01:27:47.917484Z",
     "iopub.status.idle": "2025-08-04T01:27:47.926603Z",
     "shell.execute_reply": "2025-08-04T01:27:47.925130Z"
    },
    "papermill": {
     "duration": 0.024744,
     "end_time": "2025-08-04T01:27:47.929217",
     "exception": false,
     "start_time": "2025-08-04T01:27:47.904473",
     "status": "completed"
    },
    "tags": []
   },
   "outputs": [
    {
     "name": "stdout",
     "output_type": "stream",
     "text": [
      "    area         prices\n",
      "0   1000    $316,404.11\n",
      "1   1500    $384,297.95\n",
      "2   2300    $492,928.08\n",
      "3   3540    $661,304.79\n",
      "4   4120    $740,061.64\n",
      "5   4560    $799,808.22\n",
      "6   5490    $926,090.75\n",
      "7   3460    $650,441.78\n",
      "8   4750    $825,607.88\n",
      "9   2300    $492,928.08\n",
      "10  9000  $1,402,705.48\n",
      "11  8600  $1,348,390.41\n",
      "12  7100  $1,144,708.90\n"
     ]
    }
   ],
   "source": [
    "d['prices'] = d['prices'].apply(lambda x: f\"${x:,.2f}\")\n",
    "print(d)\n"
   ]
  },
  {
   "cell_type": "code",
   "execution_count": 14,
   "id": "5f9531cb",
   "metadata": {
    "execution": {
     "iopub.execute_input": "2025-08-04T01:27:47.955548Z",
     "iopub.status.busy": "2025-08-04T01:27:47.955196Z",
     "iopub.status.idle": "2025-08-04T01:27:48.263814Z",
     "shell.execute_reply": "2025-08-04T01:27:48.262636Z"
    },
    "papermill": {
     "duration": 0.324253,
     "end_time": "2025-08-04T01:27:48.266240",
     "exception": false,
     "start_time": "2025-08-04T01:27:47.941987",
     "status": "completed"
    },
    "tags": []
   },
   "outputs": [
    {
     "data": {
      "image/png": "[encoded data removed]",
      "text/plain": [
       "<Figure size 640x480 with 1 Axes>"
      ]
     },
     "metadata": {},
     "output_type": "display_data"
    }
   ],
   "source": [
    "plt.scatter(data.area, data.price)\n",
    "plt.xlabel('area')\n",
    "plt.ylabel('price')\n",
    "plt.title('@')\n",
    "plt.plot(data.area,reg.predict(data[['area']]),color='r', label='Regression Line')\n",
    "plt.legend()\n",
    "plt.show()\n"
   ]
  },
  {
   "cell_type": "code",
   "execution_count": 15,
   "id": "cf07f4fd",
   "metadata": {
    "execution": {
     "iopub.execute_input": "2025-08-04T01:27:48.293466Z",
     "iopub.status.busy": "2025-08-04T01:27:48.292433Z",
     "iopub.status.idle": "2025-08-04T01:27:48.308459Z",
     "shell.execute_reply": "2025-08-04T01:27:48.306946Z"
    },
    "papermill": {
     "duration": 0.032029,
     "end_time": "2025-08-04T01:27:48.310765",
     "exception": false,
     "start_time": "2025-08-04T01:27:48.278736",
     "status": "completed"
    },
    "tags": []
   },
   "outputs": [
    {
     "data": {
      "text/html": [
       "<div>\n",
       "<style scoped>\n",
       "    .dataframe tbody tr th:only-of-type {\n",
       "        vertical-align: middle;\n",
       "    }\n",
       "\n",
       "    .dataframe tbody tr th {\n",
       "        vertical-align: top;\n",
       "    }\n",
       "\n",
       "    .dataframe thead th {\n",
       "        text-align: right;\n",
       "    }\n",
       "</style>\n",
       "<table border=\"1\" class=\"dataframe\">\n",
       "  <thead>\n",
       "    <tr style=\"text-align: right;\">\n",
       "      <th></th>\n",
       "      <th>year</th>\n",
       "      <th>income</th>\n",
       "    </tr>\n",
       "  </thead>\n",
       "  <tbody>\n",
       "    <tr>\n",
       "      <th>0</th>\n",
       "      <td>1970</td>\n",
       "      <td>3399.299037</td>\n",
       "    </tr>\n",
       "    <tr>\n",
       "      <th>1</th>\n",
       "      <td>1971</td>\n",
       "      <td>3768.297935</td>\n",
       "    </tr>\n",
       "    <tr>\n",
       "      <th>2</th>\n",
       "      <td>1972</td>\n",
       "      <td>4251.175484</td>\n",
       "    </tr>\n",
       "    <tr>\n",
       "      <th>3</th>\n",
       "      <td>1973</td>\n",
       "      <td>4804.463248</td>\n",
       "    </tr>\n",
       "    <tr>\n",
       "      <th>4</th>\n",
       "      <td>1974</td>\n",
       "      <td>5576.514583</td>\n",
       "    </tr>\n",
       "    <tr>\n",
       "      <th>5</th>\n",
       "      <td>1975</td>\n",
       "      <td>5998.144346</td>\n",
       "    </tr>\n",
       "    <tr>\n",
       "      <th>6</th>\n",
       "      <td>1976</td>\n",
       "      <td>7062.131392</td>\n",
       "    </tr>\n",
       "    <tr>\n",
       "      <th>7</th>\n",
       "      <td>1977</td>\n",
       "      <td>7100.126170</td>\n",
       "    </tr>\n",
       "    <tr>\n",
       "      <th>8</th>\n",
       "      <td>1978</td>\n",
       "      <td>7247.967035</td>\n",
       "    </tr>\n",
       "    <tr>\n",
       "      <th>9</th>\n",
       "      <td>1979</td>\n",
       "      <td>7602.912681</td>\n",
       "    </tr>\n",
       "  </tbody>\n",
       "</table>\n",
       "</div>"
      ],
      "text/plain": [
       "   year       income\n",
       "0  1970  3399.299037\n",
       "1  1971  3768.297935\n",
       "2  1972  4251.175484\n",
       "3  1973  4804.463248\n",
       "4  1974  5576.514583\n",
       "5  1975  5998.144346\n",
       "6  1976  7062.131392\n",
       "7  1977  7100.126170\n",
       "8  1978  7247.967035\n",
       "9  1979  7602.912681"
      ]
     },
     "execution_count": 15,
     "metadata": {},
     "output_type": "execute_result"
    }
   ],
   "source": [
    "income_canada = pd.DataFrame({\n",
    "    'year': [1970,\n",
    "1971,1972,1973,1974,1975,\n",
    "1976,\n",
    "1977,\n",
    "1978,\n",
    "1979,\n",
    "1980,\n",
    "1981,\n",
    "1982,\n",
    "1983,1984,\n",
    "1985,\n",
    "\n",
    "1986,\n",
    "1987,\n",
    "1988,\n",
    "1989,\n",
    "1990,\n",
    "1991,\n",
    "1992,\n",
    "1993,\n",
    "1994,\n",
    "1995,\n",
    "1996,\n",
    "1997,\n",
    "1998,\n",
    "1999,\n",
    "2000,\n",
    "2001,\n",
    "2002,\n",
    "2003,\n",
    "2004,\n",
    "2005,\n",
    "2006,\n",
    "2007,\n",
    "2008,\n",
    "2009,\n",
    "2010,\n",
    "2011,\n",
    "2012,\n",
    "2013,\n",
    "2014,\n",
    "2015,\n",
    "2016],\n",
    "    'income':[\n",
    "3399.299037,\n",
    "3768.297935,\n",
    "4251.175484,\n",
    "4804.463248,\n",
    "5576.514583,\n",
    "5998.144346,\n",
    "7062.131392,\n",
    "7100.12617,\n",
    "7247.967035,\n",
    "7602.912681,\n",
    "8355.96812,\n",
    "9434.390652,\n",
    "9619.438377,\n",
    "10416.53659,\n",
    "10790.32872,\n",
    "11018.95585,\n",
    "11482.89153,\n",
    "12974.80662,\n",
    "15080.28345,\n",
    "16426.72548,\n",
    "16838.6732,\n",
    "17266.09769,\n",
    "16412.08309,\n",
    "15875.58673,\n",
    "15755.82027,\n",
    "16369.31725,\n",
    "16699.82668,\n",
    "17310.75775,\n",
    "16622.67187,\n",
    "17581.02414,\n",
    "18987.38241,\n",
    "18601.39724,\n",
    "19232.17556,\n",
    "22739.42628,\n",
    "25719.14715,\n",
    "29198.05569,\n",
    "32738.2629,\n",
    "36144.48122,\n",
    "37446.48609,\n",
    "32755.17682,\n",
    "38420.52289,\n",
    "42334.71121,\n",
    "42665.25597,\n",
    "42676.46837,\n",
    "41039.8936,\n",
    "35175.18898,\n",
    "34229.19363]\n",
    "})\n",
    "income_canada.head(10)"
   ]
  },
  {
   "cell_type": "code",
   "execution_count": 16,
   "id": "3b53b0ff",
   "metadata": {
    "execution": {
     "iopub.execute_input": "2025-08-04T01:27:48.338727Z",
     "iopub.status.busy": "2025-08-04T01:27:48.338355Z",
     "iopub.status.idle": "2025-08-04T01:27:48.556446Z",
     "shell.execute_reply": "2025-08-04T01:27:48.555070Z"
    },
    "papermill": {
     "duration": 0.235167,
     "end_time": "2025-08-04T01:27:48.558780",
     "exception": false,
     "start_time": "2025-08-04T01:27:48.323613",
     "status": "completed"
    },
    "tags": []
   },
   "outputs": [
    {
     "data": {
      "image/png": "[encoded data removed]",
      "text/plain": [
       "<Figure size 640x480 with 1 Axes>"
      ]
     },
     "metadata": {},
     "output_type": "display_data"
    }
   ],
   "source": [
    "plt.scatter(income_canada.year, income_canada.income, color = 'red')\n",
    "plt.xlabel('Year')\n",
    "plt.ylabel('Income$')\n",
    "plt.title('Income Canada')\n",
    "plt.show()"
   ]
  },
  {
   "cell_type": "code",
   "execution_count": 17,
   "id": "8e0f1fb2",
   "metadata": {
    "execution": {
     "iopub.execute_input": "2025-08-04T01:27:48.586726Z",
     "iopub.status.busy": "2025-08-04T01:27:48.586334Z",
     "iopub.status.idle": "2025-08-04T01:27:48.599754Z",
     "shell.execute_reply": "2025-08-04T01:27:48.598574Z"
    },
    "papermill": {
     "duration": 0.030226,
     "end_time": "2025-08-04T01:27:48.602196",
     "exception": false,
     "start_time": "2025-08-04T01:27:48.571970",
     "status": "completed"
    },
    "tags": []
   },
   "outputs": [
    {
     "data": {
      "text/html": [
       "<style>#sk-container-id-2 {color: black;background-color: white;}#sk-container-id-2 pre{padding: 0;}#sk-container-id-2 div.sk-toggleable {background-color: white;}#sk-container-id-2 label.sk-toggleable__label {cursor: pointer;display: block;width: 100%;margin-bottom: 0;padding: 0.3em;box-sizing: border-box;text-align: center;}#sk-container-id-2 label.sk-toggleable__label-arrow:before {content: \"▸\";float: left;margin-right: 0.25em;color: #696969;}#sk-container-id-2 label.sk-toggleable__label-arrow:hover:before {color: black;}#sk-container-id-2 div.sk-estimator:hover label.sk-toggleable__label-arrow:before {color: black;}#sk-container-id-2 div.sk-toggleable__content {max-height: 0;max-width: 0;overflow: hidden;text-align: left;background-color: #f0f8ff;}#sk-container-id-2 div.sk-toggleable__content pre {margin: 0.2em;color: black;border-radius: 0.25em;background-color: #f0f8ff;}#sk-container-id-2 input.sk-toggleable__control:checked~div.sk-toggleable__content {max-height: 200px;max-width: 100%;overflow: auto;}#sk-container-id-2 input.sk-toggleable__control:checked~label.sk-toggleable__label-arrow:before {content: \"▾\";}#sk-container-id-2 div.sk-estimator input.sk-toggleable__control:checked~label.sk-toggleable__label {background-color: #d4ebff;}#sk-container-id-2 div.sk-label input.sk-toggleable__control:checked~label.sk-toggleable__label {background-color: #d4ebff;}#sk-container-id-2 input.sk-hidden--visually {border: 0;clip: rect(1px 1px 1px 1px);clip: rect(1px, 1px, 1px, 1px);height: 1px;margin: -1px;overflow: hidden;padding: 0;position: absolute;width: 1px;}#sk-container-id-2 div.sk-estimator {font-family: monospace;background-color: #f0f8ff;border: 1px dotted black;border-radius: 0.25em;box-sizing: border-box;margin-bottom: 0.5em;}#sk-container-id-2 div.sk-estimator:hover {background-color: #d4ebff;}#sk-container-id-2 div.sk-parallel-item::after {content: \"\";width: 100%;border-bottom: 1px solid gray;flex-grow: 1;}#sk-container-id-2 div.sk-label:hover label.sk-toggleable__label {background-color: #d4ebff;}#sk-container-id-2 div.sk-serial::before {content: \"\";position: absolute;border-left: 1px solid gray;box-sizing: border-box;top: 0;bottom: 0;left: 50%;z-index: 0;}#sk-container-id-2 div.sk-serial {display: flex;flex-direction: column;align-items: center;background-color: white;padding-right: 0.2em;padding-left: 0.2em;position: relative;}#sk-container-id-2 div.sk-item {position: relative;z-index: 1;}#sk-container-id-2 div.sk-parallel {display: flex;align-items: stretch;justify-content: center;background-color: white;position: relative;}#sk-container-id-2 div.sk-item::before, #sk-container-id-2 div.sk-parallel-item::before {content: \"\";position: absolute;border-left: 1px solid gray;box-sizing: border-box;top: 0;bottom: 0;left: 50%;z-index: -1;}#sk-container-id-2 div.sk-parallel-item {display: flex;flex-direction: column;z-index: 1;position: relative;background-color: white;}#sk-container-id-2 div.sk-parallel-item:first-child::after {align-self: flex-end;width: 50%;}#sk-container-id-2 div.sk-parallel-item:last-child::after {align-self: flex-start;width: 50%;}#sk-container-id-2 div.sk-parallel-item:only-child::after {width: 0;}#sk-container-id-2 div.sk-dashed-wrapped {border: 1px dashed gray;margin: 0 0.4em 0.5em 0.4em;box-sizing: border-box;padding-bottom: 0.4em;background-color: white;}#sk-container-id-2 div.sk-label label {font-family: monospace;font-weight: bold;display: inline-block;line-height: 1.2em;}#sk-container-id-2 div.sk-label-container {text-align: center;}#sk-container-id-2 div.sk-container {/* jupyter's `normalize.less` sets `[hidden] { display: none; }` but bootstrap.min.css set `[hidden] { display: none !important; }` so we also need the `!important` here to be able to override the default hidden behavior on the sphinx rendered scikit-learn.org. See: https://github.com/scikit-learn/scikit-learn/issues/21755 */display: inline-block !important;position: relative;}#sk-container-id-2 div.sk-text-repr-fallback {display: none;}</style><div id=\"sk-container-id-2\" class=\"sk-top-container\"><div class=\"sk-text-repr-fallback\"><pre>LinearRegression()</pre><b>In a Jupyter environment, please rerun this cell to show the HTML representation or trust the notebook. <br />On GitHub, the HTML representation is unable to render, please try loading this page with nbviewer.org.</b></div><div class=\"sk-container\" hidden><div class=\"sk-item\"><div class=\"sk-estimator sk-toggleable\"><input class=\"sk-toggleable__control sk-hidden--visually\" id=\"sk-estimator-id-2\" type=\"checkbox\" checked><label for=\"sk-estimator-id-2\" class=\"sk-toggleable__label sk-toggleable__label-arrow\">LinearRegression</label><div class=\"sk-toggleable__content\"><pre>LinearRegression()</pre></div></div></div></div></div>"
      ],
      "text/plain": [
       "LinearRegression()"
      ]
     },
     "execution_count": 17,
     "metadata": {},
     "output_type": "execute_result"
    }
   ],
   "source": [
    "regression = linear_model.LinearRegression()\n",
    "regression.fit(income_canada[['year']], income_canada.income)"
   ]
  },
  {
   "cell_type": "code",
   "execution_count": 18,
   "id": "87e10e93",
   "metadata": {
    "execution": {
     "iopub.execute_input": "2025-08-04T01:27:48.631062Z",
     "iopub.status.busy": "2025-08-04T01:27:48.630704Z",
     "iopub.status.idle": "2025-08-04T01:27:48.637203Z",
     "shell.execute_reply": "2025-08-04T01:27:48.635675Z"
    },
    "papermill": {
     "duration": 0.024749,
     "end_time": "2025-08-04T01:27:48.640445",
     "exception": false,
     "start_time": "2025-08-04T01:27:48.615696",
     "status": "completed"
    },
    "tags": []
   },
   "outputs": [
    {
     "name": "stdout",
     "output_type": "stream",
     "text": [
      "Predicted income for 2020: $41,288.69\n"
     ]
    },
    {
     "name": "stderr",
     "output_type": "stream",
     "text": [
      "/opt/conda/lib/python3.10/site-packages/sklearn/base.py:439: UserWarning: X does not have valid feature names, but LinearRegression was fitted with feature names\n",
      "  warnings.warn(\n"
     ]
    }
   ],
   "source": [
    "prediction_2020 = regression.predict([[2020]])\n",
    "\n",
    "print(f\"Predicted income for 2020: ${prediction_2020[0]:,.2f}\")"
   ]
  },
  {
   "cell_type": "code",
   "execution_count": 19,
   "id": "807731ab",
   "metadata": {
    "execution": {
     "iopub.execute_input": "2025-08-04T01:27:48.671324Z",
     "iopub.status.busy": "2025-08-04T01:27:48.670947Z",
     "iopub.status.idle": "2025-08-04T01:27:48.678639Z",
     "shell.execute_reply": "2025-08-04T01:27:48.677431Z"
    },
    "papermill": {
     "duration": 0.025532,
     "end_time": "2025-08-04T01:27:48.680876",
     "exception": false,
     "start_time": "2025-08-04T01:27:48.655344",
     "status": "completed"
    },
    "tags": []
   },
   "outputs": [
    {
     "data": {
      "text/plain": [
       "array([828.46507522])"
      ]
     },
     "execution_count": 19,
     "metadata": {},
     "output_type": "execute_result"
    }
   ],
   "source": [
    "regression.coef_"
   ]
  },
  {
   "cell_type": "code",
   "execution_count": 20,
   "id": "dfd1166e",
   "metadata": {
    "execution": {
     "iopub.execute_input": "2025-08-04T01:27:48.713432Z",
     "iopub.status.busy": "2025-08-04T01:27:48.713074Z",
     "iopub.status.idle": "2025-08-04T01:27:48.720177Z",
     "shell.execute_reply": "2025-08-04T01:27:48.718989Z"
    },
    "papermill": {
     "duration": 0.026955,
     "end_time": "2025-08-04T01:27:48.722506",
     "exception": false,
     "start_time": "2025-08-04T01:27:48.695551",
     "status": "completed"
    },
    "tags": []
   },
   "outputs": [
    {
     "data": {
      "text/plain": [
       "-1632210.7578554575"
      ]
     },
     "execution_count": 20,
     "metadata": {},
     "output_type": "execute_result"
    }
   ],
   "source": [
    "regression.intercept_"
   ]
  },
  {
   "cell_type": "markdown",
   "id": "2a73b584",
   "metadata": {
    "papermill": {
     "duration": 0.014487,
     "end_time": "2025-08-04T01:27:48.751978",
     "exception": false,
     "start_time": "2025-08-04T01:27:48.737491",
     "status": "completed"
    },
    "tags": []
   },
   "source": [
    "### m*x+b,(m=coef, b=intercept)"
   ]
  },
  {
   "cell_type": "code",
   "execution_count": 21,
   "id": "804c26ae",
   "metadata": {
    "execution": {
     "iopub.execute_input": "2025-08-04T01:27:48.783357Z",
     "iopub.status.busy": "2025-08-04T01:27:48.783000Z",
     "iopub.status.idle": "2025-08-04T01:27:48.789697Z",
     "shell.execute_reply": "2025-08-04T01:27:48.788544Z"
    },
    "papermill": {
     "duration": 0.025654,
     "end_time": "2025-08-04T01:27:48.791899",
     "exception": false,
     "start_time": "2025-08-04T01:27:48.766245",
     "status": "completed"
    },
    "tags": []
   },
   "outputs": [
    {
     "data": {
      "text/plain": [
       "41288.694088942604"
      ]
     },
     "execution_count": 21,
     "metadata": {},
     "output_type": "execute_result"
    }
   ],
   "source": [
    "828.46507522*2020-1632210.7578554575"
   ]
  },
  {
   "cell_type": "markdown",
   "id": "885b27ec",
   "metadata": {
    "papermill": {
     "duration": 0.014916,
     "end_time": "2025-08-04T01:27:48.820988",
     "exception": false,
     "start_time": "2025-08-04T01:27:48.806072",
     "status": "completed"
    },
    "tags": []
   },
   "source": [
    "### Predict income in 2024"
   ]
  },
  {
   "cell_type": "code",
   "execution_count": 22,
   "id": "9f9b5790",
   "metadata": {
    "execution": {
     "iopub.execute_input": "2025-08-04T01:27:48.851703Z",
     "iopub.status.busy": "2025-08-04T01:27:48.851319Z",
     "iopub.status.idle": "2025-08-04T01:27:48.859349Z",
     "shell.execute_reply": "2025-08-04T01:27:48.857727Z"
    },
    "papermill": {
     "duration": 0.028939,
     "end_time": "2025-08-04T01:27:48.863753",
     "exception": false,
     "start_time": "2025-08-04T01:27:48.834814",
     "status": "completed"
    },
    "tags": []
   },
   "outputs": [
    {
     "name": "stdout",
     "output_type": "stream",
     "text": [
      "Predicted income for 2024: $44,602.55\n"
     ]
    },
    {
     "name": "stderr",
     "output_type": "stream",
     "text": [
      "/opt/conda/lib/python3.10/site-packages/sklearn/base.py:439: UserWarning: X does not have valid feature names, but LinearRegression was fitted with feature names\n",
      "  warnings.warn(\n"
     ]
    }
   ],
   "source": [
    "prediction_2020 = regression.predict([[2024]])\n",
    "\n",
    "print(f\"Predicted income for 2024: ${prediction_2020[0]:,.2f}\")"
   ]
  },
  {
   "cell_type": "code",
   "execution_count": 23,
   "id": "7ed34ed6",
   "metadata": {
    "execution": {
     "iopub.execute_input": "2025-08-04T01:27:48.894664Z",
     "iopub.status.busy": "2025-08-04T01:27:48.894291Z",
     "iopub.status.idle": "2025-08-04T01:27:48.905965Z",
     "shell.execute_reply": "2025-08-04T01:27:48.904837Z"
    },
    "papermill": {
     "duration": 0.029644,
     "end_time": "2025-08-04T01:27:48.908284",
     "exception": false,
     "start_time": "2025-08-04T01:27:48.878640",
     "status": "completed"
    },
    "tags": []
   },
   "outputs": [
    {
     "data": {
      "text/html": [
       "<div>\n",
       "<style scoped>\n",
       "    .dataframe tbody tr th:only-of-type {\n",
       "        vertical-align: middle;\n",
       "    }\n",
       "\n",
       "    .dataframe tbody tr th {\n",
       "        vertical-align: top;\n",
       "    }\n",
       "\n",
       "    .dataframe thead th {\n",
       "        text-align: right;\n",
       "    }\n",
       "</style>\n",
       "<table border=\"1\" class=\"dataframe\">\n",
       "  <thead>\n",
       "    <tr style=\"text-align: right;\">\n",
       "      <th></th>\n",
       "      <th>area</th>\n",
       "      <th>bedrooms</th>\n",
       "      <th>age</th>\n",
       "      <th>price</th>\n",
       "    </tr>\n",
       "  </thead>\n",
       "  <tbody>\n",
       "    <tr>\n",
       "      <th>0</th>\n",
       "      <td>2600</td>\n",
       "      <td>3</td>\n",
       "      <td>20</td>\n",
       "      <td>550000</td>\n",
       "    </tr>\n",
       "    <tr>\n",
       "      <th>1</th>\n",
       "      <td>3000</td>\n",
       "      <td>4</td>\n",
       "      <td>15</td>\n",
       "      <td>565000</td>\n",
       "    </tr>\n",
       "    <tr>\n",
       "      <th>2</th>\n",
       "      <td>3200</td>\n",
       "      <td>3</td>\n",
       "      <td>18</td>\n",
       "      <td>610000</td>\n",
       "    </tr>\n",
       "    <tr>\n",
       "      <th>3</th>\n",
       "      <td>3600</td>\n",
       "      <td>3</td>\n",
       "      <td>30</td>\n",
       "      <td>595000</td>\n",
       "    </tr>\n",
       "    <tr>\n",
       "      <th>4</th>\n",
       "      <td>4000</td>\n",
       "      <td>5</td>\n",
       "      <td>8</td>\n",
       "      <td>760000</td>\n",
       "    </tr>\n",
       "  </tbody>\n",
       "</table>\n",
       "</div>"
      ],
      "text/plain": [
       "   area  bedrooms  age   price\n",
       "0  2600         3   20  550000\n",
       "1  3000         4   15  565000\n",
       "2  3200         3   18  610000\n",
       "3  3600         3   30  595000\n",
       "4  4000         5    8  760000"
      ]
     },
     "execution_count": 23,
     "metadata": {},
     "output_type": "execute_result"
    }
   ],
   "source": [
    "hp = pd.DataFrame({'area': [2600,3000,3200,3600,4000],\n",
    "                     'bedrooms': [3,4,3,3,5],\n",
    "                     'age':[20,15,18,30,8],\n",
    "       'price': [550000, 565000,610000,595000,760000]\n",
    "       })\n",
    "hp"
   ]
  },
  {
   "cell_type": "markdown",
   "id": "e9884bd0",
   "metadata": {
    "papermill": {
     "duration": 0.014162,
     "end_time": "2025-08-04T01:27:48.937526",
     "exception": false,
     "start_time": "2025-08-04T01:27:48.923364",
     "status": "completed"
    },
    "tags": []
   },
   "source": []
  },
  {
   "cell_type": "code",
   "execution_count": 24,
   "id": "ead8ffe4",
   "metadata": {
    "execution": {
     "iopub.execute_input": "2025-08-04T01:27:48.968510Z",
     "iopub.status.busy": "2025-08-04T01:27:48.967463Z",
     "iopub.status.idle": "2025-08-04T01:27:48.972171Z",
     "shell.execute_reply": "2025-08-04T01:27:48.971120Z"
    },
    "papermill": {
     "duration": 0.023062,
     "end_time": "2025-08-04T01:27:48.975113",
     "exception": false,
     "start_time": "2025-08-04T01:27:48.952051",
     "status": "completed"
    },
    "tags": []
   },
   "outputs": [],
   "source": [
    "import math"
   ]
  },
  {
   "cell_type": "code",
   "execution_count": 25,
   "id": "c9d6af53",
   "metadata": {
    "execution": {
     "iopub.execute_input": "2025-08-04T01:27:49.005395Z",
     "iopub.status.busy": "2025-08-04T01:27:49.005021Z",
     "iopub.status.idle": "2025-08-04T01:27:49.014040Z",
     "shell.execute_reply": "2025-08-04T01:27:49.012775Z"
    },
    "papermill": {
     "duration": 0.026989,
     "end_time": "2025-08-04T01:27:49.016314",
     "exception": false,
     "start_time": "2025-08-04T01:27:48.989325",
     "status": "completed"
    },
    "tags": []
   },
   "outputs": [
    {
     "data": {
      "text/plain": [
       "3"
      ]
     },
     "execution_count": 25,
     "metadata": {},
     "output_type": "execute_result"
    }
   ],
   "source": [
    "\n",
    "\n",
    "median_bedrooms = math.floor(hp.bedrooms.median())\n",
    "median_bedrooms"
   ]
  },
  {
   "cell_type": "markdown",
   "id": "9d5808b1",
   "metadata": {
    "papermill": {
     "duration": 0.015168,
     "end_time": "2025-08-04T01:27:49.046546",
     "exception": false,
     "start_time": "2025-08-04T01:27:49.031378",
     "status": "completed"
    },
    "tags": []
   },
   "source": [
    "reg_1 = linear_model.LinearRegression(): This creates a new instance of the linear regression model.\n",
    "\n",
    "reg_1.fit(hp[['area','bedrooms','age']], hp.price): This fits the model using the hp DataFrame.\n",
    "\n",
    "hp[['area', 'bedrooms', 'age']]: These are the independent variables (features) used for prediction: house size (area), number of bedrooms (bedrooms), and house age (age).\n",
    "\n",
    "hp.price: This is the dependent variable (target) that the model will try to predict: house price (price)."
   ]
  },
  {
   "cell_type": "code",
   "execution_count": 26,
   "id": "98b24dcd",
   "metadata": {
    "execution": {
     "iopub.execute_input": "2025-08-04T01:27:49.079571Z",
     "iopub.status.busy": "2025-08-04T01:27:49.078462Z",
     "iopub.status.idle": "2025-08-04T01:27:49.101225Z",
     "shell.execute_reply": "2025-08-04T01:27:49.100026Z"
    },
    "papermill": {
     "duration": 0.041222,
     "end_time": "2025-08-04T01:27:49.103473",
     "exception": false,
     "start_time": "2025-08-04T01:27:49.062251",
     "status": "completed"
    },
    "tags": []
   },
   "outputs": [
    {
     "data": {
      "text/html": [
       "<style>#sk-container-id-3 {color: black;background-color: white;}#sk-container-id-3 pre{padding: 0;}#sk-container-id-3 div.sk-toggleable {background-color: white;}#sk-container-id-3 label.sk-toggleable__label {cursor: pointer;display: block;width: 100%;margin-bottom: 0;padding: 0.3em;box-sizing: border-box;text-align: center;}#sk-container-id-3 label.sk-toggleable__label-arrow:before {content: \"▸\";float: left;margin-right: 0.25em;color: #696969;}#sk-container-id-3 label.sk-toggleable__label-arrow:hover:before {color: black;}#sk-container-id-3 div.sk-estimator:hover label.sk-toggleable__label-arrow:before {color: black;}#sk-container-id-3 div.sk-toggleable__content {max-height: 0;max-width: 0;overflow: hidden;text-align: left;background-color: #f0f8ff;}#sk-container-id-3 div.sk-toggleable__content pre {margin: 0.2em;color: black;border-radius: 0.25em;background-color: #f0f8ff;}#sk-container-id-3 input.sk-toggleable__control:checked~div.sk-toggleable__content {max-height: 200px;max-width: 100%;overflow: auto;}#sk-container-id-3 input.sk-toggleable__control:checked~label.sk-toggleable__label-arrow:before {content: \"▾\";}#sk-container-id-3 div.sk-estimator input.sk-toggleable__control:checked~label.sk-toggleable__label {background-color: #d4ebff;}#sk-container-id-3 div.sk-label input.sk-toggleable__control:checked~label.sk-toggleable__label {background-color: #d4ebff;}#sk-container-id-3 input.sk-hidden--visually {border: 0;clip: rect(1px 1px 1px 1px);clip: rect(1px, 1px, 1px, 1px);height: 1px;margin: -1px;overflow: hidden;padding: 0;position: absolute;width: 1px;}#sk-container-id-3 div.sk-estimator {font-family: monospace;background-color: #f0f8ff;border: 1px dotted black;border-radius: 0.25em;box-sizing: border-box;margin-bottom: 0.5em;}#sk-container-id-3 div.sk-estimator:hover {background-color: #d4ebff;}#sk-container-id-3 div.sk-parallel-item::after {content: \"\";width: 100%;border-bottom: 1px solid gray;flex-grow: 1;}#sk-container-id-3 div.sk-label:hover label.sk-toggleable__label {background-color: #d4ebff;}#sk-container-id-3 div.sk-serial::before {content: \"\";position: absolute;border-left: 1px solid gray;box-sizing: border-box;top: 0;bottom: 0;left: 50%;z-index: 0;}#sk-container-id-3 div.sk-serial {display: flex;flex-direction: column;align-items: center;background-color: white;padding-right: 0.2em;padding-left: 0.2em;position: relative;}#sk-container-id-3 div.sk-item {position: relative;z-index: 1;}#sk-container-id-3 div.sk-parallel {display: flex;align-items: stretch;justify-content: center;background-color: white;position: relative;}#sk-container-id-3 div.sk-item::before, #sk-container-id-3 div.sk-parallel-item::before {content: \"\";position: absolute;border-left: 1px solid gray;box-sizing: border-box;top: 0;bottom: 0;left: 50%;z-index: -1;}#sk-container-id-3 div.sk-parallel-item {display: flex;flex-direction: column;z-index: 1;position: relative;background-color: white;}#sk-container-id-3 div.sk-parallel-item:first-child::after {align-self: flex-end;width: 50%;}#sk-container-id-3 div.sk-parallel-item:last-child::after {align-self: flex-start;width: 50%;}#sk-container-id-3 div.sk-parallel-item:only-child::after {width: 0;}#sk-container-id-3 div.sk-dashed-wrapped {border: 1px dashed gray;margin: 0 0.4em 0.5em 0.4em;box-sizing: border-box;padding-bottom: 0.4em;background-color: white;}#sk-container-id-3 div.sk-label label {font-family: monospace;font-weight: bold;display: inline-block;line-height: 1.2em;}#sk-container-id-3 div.sk-label-container {text-align: center;}#sk-container-id-3 div.sk-container {/* jupyter's `normalize.less` sets `[hidden] { display: none; }` but bootstrap.min.css set `[hidden] { display: none !important; }` so we also need the `!important` here to be able to override the default hidden behavior on the sphinx rendered scikit-learn.org. See: https://github.com/scikit-learn/scikit-learn/issues/21755 */display: inline-block !important;position: relative;}#sk-container-id-3 div.sk-text-repr-fallback {display: none;}</style><div id=\"sk-container-id-3\" class=\"sk-top-container\"><div class=\"sk-text-repr-fallback\"><pre>LinearRegression()</pre><b>In a Jupyter environment, please rerun this cell to show the HTML representation or trust the notebook. <br />On GitHub, the HTML representation is unable to render, please try loading this page with nbviewer.org.</b></div><div class=\"sk-container\" hidden><div class=\"sk-item\"><div class=\"sk-estimator sk-toggleable\"><input class=\"sk-toggleable__control sk-hidden--visually\" id=\"sk-estimator-id-3\" type=\"checkbox\" checked><label for=\"sk-estimator-id-3\" class=\"sk-toggleable__label sk-toggleable__label-arrow\">LinearRegression</label><div class=\"sk-toggleable__content\"><pre>LinearRegression()</pre></div></div></div></div></div>"
      ],
      "text/plain": [
       "LinearRegression()"
      ]
     },
     "execution_count": 26,
     "metadata": {},
     "output_type": "execute_result"
    }
   ],
   "source": [
    "reg_1 = linear_model.LinearRegression()\n",
    "reg_1.fit(hp[['area','bedrooms','age']],hp.price)"
   ]
  },
  {
   "cell_type": "markdown",
   "id": "ccceb89a",
   "metadata": {
    "papermill": {
     "duration": 0.014295,
     "end_time": "2025-08-04T01:27:49.132705",
     "exception": false,
     "start_time": "2025-08-04T01:27:49.118410",
     "status": "completed"
    },
    "tags": []
   },
   "source": [
    "# coef_:m, mx+b"
   ]
  },
  {
   "cell_type": "code",
   "execution_count": 27,
   "id": "74de7c8c",
   "metadata": {
    "execution": {
     "iopub.execute_input": "2025-08-04T01:27:49.164358Z",
     "iopub.status.busy": "2025-08-04T01:27:49.164007Z",
     "iopub.status.idle": "2025-08-04T01:27:49.171227Z",
     "shell.execute_reply": "2025-08-04T01:27:49.170155Z"
    },
    "papermill": {
     "duration": 0.026322,
     "end_time": "2025-08-04T01:27:49.173480",
     "exception": false,
     "start_time": "2025-08-04T01:27:49.147158",
     "status": "completed"
    },
    "tags": []
   },
   "outputs": [
    {
     "data": {
      "text/plain": [
       "array([   137.25, -26025.  ,  -6825.  ])"
      ]
     },
     "execution_count": 27,
     "metadata": {},
     "output_type": "execute_result"
    }
   ],
   "source": [
    "reg_1.coef_"
   ]
  },
  {
   "cell_type": "markdown",
   "id": "c02a7850",
   "metadata": {
    "papermill": {
     "duration": 0.014489,
     "end_time": "2025-08-04T01:27:49.202502",
     "exception": false,
     "start_time": "2025-08-04T01:27:49.188013",
     "status": "completed"
    },
    "tags": []
   },
   "source": [
    "# intercept:b"
   ]
  },
  {
   "cell_type": "code",
   "execution_count": 28,
   "id": "ecd817a6",
   "metadata": {
    "execution": {
     "iopub.execute_input": "2025-08-04T01:27:49.233398Z",
     "iopub.status.busy": "2025-08-04T01:27:49.233060Z",
     "iopub.status.idle": "2025-08-04T01:27:49.240553Z",
     "shell.execute_reply": "2025-08-04T01:27:49.239530Z"
    },
    "papermill": {
     "duration": 0.025208,
     "end_time": "2025-08-04T01:27:49.242532",
     "exception": false,
     "start_time": "2025-08-04T01:27:49.217324",
     "status": "completed"
    },
    "tags": []
   },
   "outputs": [
    {
     "data": {
      "text/plain": [
       "383724.9999999998"
      ]
     },
     "execution_count": 28,
     "metadata": {},
     "output_type": "execute_result"
    }
   ],
   "source": [
    "reg_1.intercept_"
   ]
  },
  {
   "cell_type": "code",
   "execution_count": 29,
   "id": "a5846704",
   "metadata": {
    "execution": {
     "iopub.execute_input": "2025-08-04T01:27:49.273754Z",
     "iopub.status.busy": "2025-08-04T01:27:49.272981Z",
     "iopub.status.idle": "2025-08-04T01:27:49.278857Z",
     "shell.execute_reply": "2025-08-04T01:27:49.277816Z"
    },
    "papermill": {
     "duration": 0.025076,
     "end_time": "2025-08-04T01:27:49.282525",
     "exception": false,
     "start_time": "2025-08-04T01:27:49.257449",
     "status": "completed"
    },
    "tags": []
   },
   "outputs": [
    {
     "name": "stdout",
     "output_type": "stream",
     "text": [
      "Predicted price: $444,400.00\n"
     ]
    },
    {
     "name": "stderr",
     "output_type": "stream",
     "text": [
      "/opt/conda/lib/python3.10/site-packages/sklearn/base.py:439: UserWarning: X does not have valid feature names, but LinearRegression was fitted with feature names\n",
      "  warnings.warn(\n"
     ]
    }
   ],
   "source": [
    "prediction_price = reg_1.predict([[3000,3,40]])\n",
    "\n",
    "print(f\"Predicted price: ${prediction_price[0]:,.2f}\")"
   ]
  },
  {
   "cell_type": "code",
   "execution_count": 30,
   "id": "d51d2c53",
   "metadata": {
    "execution": {
     "iopub.execute_input": "2025-08-04T01:27:49.314469Z",
     "iopub.status.busy": "2025-08-04T01:27:49.314106Z",
     "iopub.status.idle": "2025-08-04T01:27:49.320668Z",
     "shell.execute_reply": "2025-08-04T01:27:49.319646Z"
    },
    "papermill": {
     "duration": 0.025538,
     "end_time": "2025-08-04T01:27:49.323065",
     "exception": false,
     "start_time": "2025-08-04T01:27:49.297527",
     "status": "completed"
    },
    "tags": []
   },
   "outputs": [
    {
     "data": {
      "text/plain": [
       "444399.9999999998"
      ]
     },
     "execution_count": 30,
     "metadata": {},
     "output_type": "execute_result"
    }
   ],
   "source": [
    "137.25*3000+-26025*3+-6825*40+383724.9999999998"
   ]
  },
  {
   "cell_type": "code",
   "execution_count": 31,
   "id": "2c1fbf96",
   "metadata": {
    "execution": {
     "iopub.execute_input": "2025-08-04T01:27:49.354933Z",
     "iopub.status.busy": "2025-08-04T01:27:49.354529Z",
     "iopub.status.idle": "2025-08-04T01:27:49.360247Z",
     "shell.execute_reply": "2025-08-04T01:27:49.359235Z"
    },
    "papermill": {
     "duration": 0.024633,
     "end_time": "2025-08-04T01:27:49.363236",
     "exception": false,
     "start_time": "2025-08-04T01:27:49.338603",
     "status": "completed"
    },
    "tags": []
   },
   "outputs": [
    {
     "name": "stdout",
     "output_type": "stream",
     "text": [
      "Predicted Price: $588,625.00\n"
     ]
    },
    {
     "name": "stderr",
     "output_type": "stream",
     "text": [
      "/opt/conda/lib/python3.10/site-packages/sklearn/base.py:439: UserWarning: X does not have valid feature names, but LinearRegression was fitted with feature names\n",
      "  warnings.warn(\n"
     ]
    }
   ],
   "source": [
    "prediction_price_1= reg_1.predict([[2500,4,5]])\n",
    "\n",
    "print(f'Predicted Price: ${prediction_price_1[0]:,.2f}')"
   ]
  },
  {
   "cell_type": "code",
   "execution_count": 32,
   "id": "0a9bfe0c",
   "metadata": {
    "execution": {
     "iopub.execute_input": "2025-08-04T01:27:49.396076Z",
     "iopub.status.busy": "2025-08-04T01:27:49.395723Z",
     "iopub.status.idle": "2025-08-04T01:27:49.407912Z",
     "shell.execute_reply": "2025-08-04T01:27:49.406775Z"
    },
    "papermill": {
     "duration": 0.031388,
     "end_time": "2025-08-04T01:27:49.410237",
     "exception": false,
     "start_time": "2025-08-04T01:27:49.378849",
     "status": "completed"
    },
    "tags": []
   },
   "outputs": [
    {
     "data": {
      "text/html": [
       "<div>\n",
       "<style scoped>\n",
       "    .dataframe tbody tr th:only-of-type {\n",
       "        vertical-align: middle;\n",
       "    }\n",
       "\n",
       "    .dataframe tbody tr th {\n",
       "        vertical-align: top;\n",
       "    }\n",
       "\n",
       "    .dataframe thead th {\n",
       "        text-align: right;\n",
       "    }\n",
       "</style>\n",
       "<table border=\"1\" class=\"dataframe\">\n",
       "  <thead>\n",
       "    <tr style=\"text-align: right;\">\n",
       "      <th></th>\n",
       "      <th>experience</th>\n",
       "      <th>test_score</th>\n",
       "      <th>interview_score</th>\n",
       "      <th>salary</th>\n",
       "    </tr>\n",
       "  </thead>\n",
       "  <tbody>\n",
       "    <tr>\n",
       "      <th>0</th>\n",
       "      <td>0</td>\n",
       "      <td>8</td>\n",
       "      <td>9</td>\n",
       "      <td>50000</td>\n",
       "    </tr>\n",
       "    <tr>\n",
       "      <th>1</th>\n",
       "      <td>0</td>\n",
       "      <td>8</td>\n",
       "      <td>6</td>\n",
       "      <td>45000</td>\n",
       "    </tr>\n",
       "    <tr>\n",
       "      <th>2</th>\n",
       "      <td>5</td>\n",
       "      <td>6</td>\n",
       "      <td>7</td>\n",
       "      <td>60000</td>\n",
       "    </tr>\n",
       "    <tr>\n",
       "      <th>3</th>\n",
       "      <td>2</td>\n",
       "      <td>10</td>\n",
       "      <td>10</td>\n",
       "      <td>65000</td>\n",
       "    </tr>\n",
       "    <tr>\n",
       "      <th>4</th>\n",
       "      <td>7</td>\n",
       "      <td>9</td>\n",
       "      <td>6</td>\n",
       "      <td>70000</td>\n",
       "    </tr>\n",
       "    <tr>\n",
       "      <th>5</th>\n",
       "      <td>3</td>\n",
       "      <td>7</td>\n",
       "      <td>10</td>\n",
       "      <td>62000</td>\n",
       "    </tr>\n",
       "    <tr>\n",
       "      <th>6</th>\n",
       "      <td>10</td>\n",
       "      <td>7</td>\n",
       "      <td>7</td>\n",
       "      <td>72000</td>\n",
       "    </tr>\n",
       "    <tr>\n",
       "      <th>7</th>\n",
       "      <td>11</td>\n",
       "      <td>7</td>\n",
       "      <td>8</td>\n",
       "      <td>80000</td>\n",
       "    </tr>\n",
       "  </tbody>\n",
       "</table>\n",
       "</div>"
      ],
      "text/plain": [
       "   experience  test_score  interview_score  salary\n",
       "0           0           8                9   50000\n",
       "1           0           8                6   45000\n",
       "2           5           6                7   60000\n",
       "3           2          10               10   65000\n",
       "4           7           9                6   70000\n",
       "5           3           7               10   62000\n",
       "6          10           7                7   72000\n",
       "7          11           7                8   80000"
      ]
     },
     "execution_count": 32,
     "metadata": {},
     "output_type": "execute_result"
    }
   ],
   "source": [
    "hi_sal = pd.DataFrame({\n",
    "    'experience':[0,0,5,2,7,3,10,11],\n",
    "    'test_score':[8,8,6,10,9,7,7,7],\n",
    "    'interview_score':[9,6,7,10,6,10,7,8],\n",
    "    'salary':[50000,45000,60000,65000,70000,62000,72000,80000]\n",
    "})\n",
    "hi_sal"
   ]
  },
  {
   "cell_type": "code",
   "execution_count": 33,
   "id": "d50c5fe4",
   "metadata": {
    "execution": {
     "iopub.execute_input": "2025-08-04T01:27:49.446774Z",
     "iopub.status.busy": "2025-08-04T01:27:49.445900Z",
     "iopub.status.idle": "2025-08-04T01:27:49.455359Z",
     "shell.execute_reply": "2025-08-04T01:27:49.454173Z"
    },
    "papermill": {
     "duration": 0.031777,
     "end_time": "2025-08-04T01:27:49.457661",
     "exception": false,
     "start_time": "2025-08-04T01:27:49.425884",
     "status": "completed"
    },
    "tags": []
   },
   "outputs": [
    {
     "data": {
      "text/plain": [
       "7"
      ]
     },
     "execution_count": 33,
     "metadata": {},
     "output_type": "execute_result"
    }
   ],
   "source": [
    "import math\n",
    "median_test_score = math.floor(hi_sal['test_score'].mean())\n",
    "median_test_score"
   ]
  },
  {
   "cell_type": "markdown",
   "id": "614ba622",
   "metadata": {
    "papermill": {
     "duration": 0.015375,
     "end_time": "2025-08-04T01:27:49.489082",
     "exception": false,
     "start_time": "2025-08-04T01:27:49.473707",
     "status": "completed"
    },
    "tags": []
   },
   "source": [
    "### Fit the Model"
   ]
  },
  {
   "cell_type": "code",
   "execution_count": 34,
   "id": "958b559b",
   "metadata": {
    "execution": {
     "iopub.execute_input": "2025-08-04T01:27:49.522231Z",
     "iopub.status.busy": "2025-08-04T01:27:49.521856Z",
     "iopub.status.idle": "2025-08-04T01:27:49.536238Z",
     "shell.execute_reply": "2025-08-04T01:27:49.534910Z"
    },
    "papermill": {
     "duration": 0.033281,
     "end_time": "2025-08-04T01:27:49.538459",
     "exception": false,
     "start_time": "2025-08-04T01:27:49.505178",
     "status": "completed"
    },
    "tags": []
   },
   "outputs": [
    {
     "data": {
      "text/html": [
       "<style>#sk-container-id-4 {color: black;background-color: white;}#sk-container-id-4 pre{padding: 0;}#sk-container-id-4 div.sk-toggleable {background-color: white;}#sk-container-id-4 label.sk-toggleable__label {cursor: pointer;display: block;width: 100%;margin-bottom: 0;padding: 0.3em;box-sizing: border-box;text-align: center;}#sk-container-id-4 label.sk-toggleable__label-arrow:before {content: \"▸\";float: left;margin-right: 0.25em;color: #696969;}#sk-container-id-4 label.sk-toggleable__label-arrow:hover:before {color: black;}#sk-container-id-4 div.sk-estimator:hover label.sk-toggleable__label-arrow:before {color: black;}#sk-container-id-4 div.sk-toggleable__content {max-height: 0;max-width: 0;overflow: hidden;text-align: left;background-color: #f0f8ff;}#sk-container-id-4 div.sk-toggleable__content pre {margin: 0.2em;color: black;border-radius: 0.25em;background-color: #f0f8ff;}#sk-container-id-4 input.sk-toggleable__control:checked~div.sk-toggleable__content {max-height: 200px;max-width: 100%;overflow: auto;}#sk-container-id-4 input.sk-toggleable__control:checked~label.sk-toggleable__label-arrow:before {content: \"▾\";}#sk-container-id-4 div.sk-estimator input.sk-toggleable__control:checked~label.sk-toggleable__label {background-color: #d4ebff;}#sk-container-id-4 div.sk-label input.sk-toggleable__control:checked~label.sk-toggleable__label {background-color: #d4ebff;}#sk-container-id-4 input.sk-hidden--visually {border: 0;clip: rect(1px 1px 1px 1px);clip: rect(1px, 1px, 1px, 1px);height: 1px;margin: -1px;overflow: hidden;padding: 0;position: absolute;width: 1px;}#sk-container-id-4 div.sk-estimator {font-family: monospace;background-color: #f0f8ff;border: 1px dotted black;border-radius: 0.25em;box-sizing: border-box;margin-bottom: 0.5em;}#sk-container-id-4 div.sk-estimator:hover {background-color: #d4ebff;}#sk-container-id-4 div.sk-parallel-item::after {content: \"\";width: 100%;border-bottom: 1px solid gray;flex-grow: 1;}#sk-container-id-4 div.sk-label:hover label.sk-toggleable__label {background-color: #d4ebff;}#sk-container-id-4 div.sk-serial::before {content: \"\";position: absolute;border-left: 1px solid gray;box-sizing: border-box;top: 0;bottom: 0;left: 50%;z-index: 0;}#sk-container-id-4 div.sk-serial {display: flex;flex-direction: column;align-items: center;background-color: white;padding-right: 0.2em;padding-left: 0.2em;position: relative;}#sk-container-id-4 div.sk-item {position: relative;z-index: 1;}#sk-container-id-4 div.sk-parallel {display: flex;align-items: stretch;justify-content: center;background-color: white;position: relative;}#sk-container-id-4 div.sk-item::before, #sk-container-id-4 div.sk-parallel-item::before {content: \"\";position: absolute;border-left: 1px solid gray;box-sizing: border-box;top: 0;bottom: 0;left: 50%;z-index: -1;}#sk-container-id-4 div.sk-parallel-item {display: flex;flex-direction: column;z-index: 1;position: relative;background-color: white;}#sk-container-id-4 div.sk-parallel-item:first-child::after {align-self: flex-end;width: 50%;}#sk-container-id-4 div.sk-parallel-item:last-child::after {align-self: flex-start;width: 50%;}#sk-container-id-4 div.sk-parallel-item:only-child::after {width: 0;}#sk-container-id-4 div.sk-dashed-wrapped {border: 1px dashed gray;margin: 0 0.4em 0.5em 0.4em;box-sizing: border-box;padding-bottom: 0.4em;background-color: white;}#sk-container-id-4 div.sk-label label {font-family: monospace;font-weight: bold;display: inline-block;line-height: 1.2em;}#sk-container-id-4 div.sk-label-container {text-align: center;}#sk-container-id-4 div.sk-container {/* jupyter's `normalize.less` sets `[hidden] { display: none; }` but bootstrap.min.css set `[hidden] { display: none !important; }` so we also need the `!important` here to be able to override the default hidden behavior on the sphinx rendered scikit-learn.org. See: https://github.com/scikit-learn/scikit-learn/issues/21755 */display: inline-block !important;position: relative;}#sk-container-id-4 div.sk-text-repr-fallback {display: none;}</style><div id=\"sk-container-id-4\" class=\"sk-top-container\"><div class=\"sk-text-repr-fallback\"><pre>LinearRegression()</pre><b>In a Jupyter environment, please rerun this cell to show the HTML representation or trust the notebook. <br />On GitHub, the HTML representation is unable to render, please try loading this page with nbviewer.org.</b></div><div class=\"sk-container\" hidden><div class=\"sk-item\"><div class=\"sk-estimator sk-toggleable\"><input class=\"sk-toggleable__control sk-hidden--visually\" id=\"sk-estimator-id-4\" type=\"checkbox\" checked><label for=\"sk-estimator-id-4\" class=\"sk-toggleable__label sk-toggleable__label-arrow\">LinearRegression</label><div class=\"sk-toggleable__content\"><pre>LinearRegression()</pre></div></div></div></div></div>"
      ],
      "text/plain": [
       "LinearRegression()"
      ]
     },
     "execution_count": 34,
     "metadata": {},
     "output_type": "execute_result"
    }
   ],
   "source": [
    "reg_2 = linear_model.LinearRegression()\n",
    "reg_2.fit(hi_sal[['experience','test_score','interview_score']], hi_sal.salary)"
   ]
  },
  {
   "cell_type": "markdown",
   "id": "399b6cb1",
   "metadata": {
    "papermill": {
     "duration": 0.015703,
     "end_time": "2025-08-04T01:27:49.570447",
     "exception": false,
     "start_time": "2025-08-04T01:27:49.554744",
     "status": "completed"
    },
    "tags": []
   },
   "source": [
    "2 years of experience\n",
    "\n",
    "Test score of 9\n",
    "\n",
    "Interview score of 6"
   ]
  },
  {
   "cell_type": "code",
   "execution_count": 35,
   "id": "139dfe47",
   "metadata": {
    "execution": {
     "iopub.execute_input": "2025-08-04T01:27:49.605304Z",
     "iopub.status.busy": "2025-08-04T01:27:49.604933Z",
     "iopub.status.idle": "2025-08-04T01:27:49.610623Z",
     "shell.execute_reply": "2025-08-04T01:27:49.609639Z"
    },
    "papermill": {
     "duration": 0.027105,
     "end_time": "2025-08-04T01:27:49.614024",
     "exception": false,
     "start_time": "2025-08-04T01:27:49.586919",
     "status": "completed"
    },
    "tags": []
   },
   "outputs": [
    {
     "name": "stdout",
     "output_type": "stream",
     "text": [
      "Predicted Salary: $53,713.87\n"
     ]
    },
    {
     "name": "stderr",
     "output_type": "stream",
     "text": [
      "/opt/conda/lib/python3.10/site-packages/sklearn/base.py:439: UserWarning: X does not have valid feature names, but LinearRegression was fitted with feature names\n",
      "  warnings.warn(\n"
     ]
    }
   ],
   "source": [
    "predicted_salary = reg_2.predict([[2,9,6]])\n",
    "\n",
    "print(f'Predicted Salary: ${predicted_salary[0]:,.2f}')"
   ]
  },
  {
   "cell_type": "markdown",
   "id": "42b21fb6",
   "metadata": {
    "papermill": {
     "duration": 0.01612,
     "end_time": "2025-08-04T01:27:49.646531",
     "exception": false,
     "start_time": "2025-08-04T01:27:49.630411",
     "status": "completed"
    },
    "tags": []
   },
   "source": [
    "# m, mx+b"
   ]
  },
  {
   "cell_type": "code",
   "execution_count": 36,
   "id": "b5c2dd8d",
   "metadata": {
    "execution": {
     "iopub.execute_input": "2025-08-04T01:27:49.683419Z",
     "iopub.status.busy": "2025-08-04T01:27:49.683034Z",
     "iopub.status.idle": "2025-08-04T01:27:49.689573Z",
     "shell.execute_reply": "2025-08-04T01:27:49.688662Z"
    },
    "papermill": {
     "duration": 0.027196,
     "end_time": "2025-08-04T01:27:49.692030",
     "exception": false,
     "start_time": "2025-08-04T01:27:49.664834",
     "status": "completed"
    },
    "tags": []
   },
   "outputs": [
    {
     "data": {
      "text/plain": [
       "array([2922.26901502, 2221.30909959, 2147.48256637])"
      ]
     },
     "execution_count": 36,
     "metadata": {},
     "output_type": "execute_result"
    }
   ],
   "source": [
    "reg_2.coef_"
   ]
  },
  {
   "cell_type": "markdown",
   "id": "c346087c",
   "metadata": {
    "papermill": {
     "duration": 0.018021,
     "end_time": "2025-08-04T01:27:49.726735",
     "exception": false,
     "start_time": "2025-08-04T01:27:49.708714",
     "status": "completed"
    },
    "tags": []
   },
   "source": [
    "# b, mx+b"
   ]
  },
  {
   "cell_type": "code",
   "execution_count": 37,
   "id": "0f24a964",
   "metadata": {
    "execution": {
     "iopub.execute_input": "2025-08-04T01:27:49.766555Z",
     "iopub.status.busy": "2025-08-04T01:27:49.766184Z",
     "iopub.status.idle": "2025-08-04T01:27:49.773404Z",
     "shell.execute_reply": "2025-08-04T01:27:49.772362Z"
    },
    "papermill": {
     "duration": 0.031571,
     "end_time": "2025-08-04T01:27:49.775742",
     "exception": false,
     "start_time": "2025-08-04T01:27:49.744171",
     "status": "completed"
    },
    "tags": []
   },
   "outputs": [
    {
     "data": {
      "text/plain": [
       "14992.65144669314"
      ]
     },
     "execution_count": 37,
     "metadata": {},
     "output_type": "execute_result"
    }
   ],
   "source": [
    "reg_2.intercept_"
   ]
  },
  {
   "cell_type": "markdown",
   "id": "52482a81",
   "metadata": {
    "papermill": {
     "duration": 0.019119,
     "end_time": "2025-08-04T01:27:49.813617",
     "exception": false,
     "start_time": "2025-08-04T01:27:49.794498",
     "status": "completed"
    },
    "tags": []
   },
   "source": [
    "(mx+mx+mx)+b"
   ]
  },
  {
   "cell_type": "code",
   "execution_count": 38,
   "id": "8baa7b79",
   "metadata": {
    "execution": {
     "iopub.execute_input": "2025-08-04T01:27:49.851661Z",
     "iopub.status.busy": "2025-08-04T01:27:49.851107Z",
     "iopub.status.idle": "2025-08-04T01:27:49.859986Z",
     "shell.execute_reply": "2025-08-04T01:27:49.858902Z"
    },
    "papermill": {
     "duration": 0.032779,
     "end_time": "2025-08-04T01:27:49.862888",
     "exception": false,
     "start_time": "2025-08-04T01:27:49.830109",
     "status": "completed"
    },
    "tags": []
   },
   "outputs": [
    {
     "data": {
      "text/plain": [
       "53713.86677126314"
      ]
     },
     "execution_count": 38,
     "metadata": {},
     "output_type": "execute_result"
    }
   ],
   "source": [
    "2922.26901502*2+2221.30909959*9+2147.48256637*6+14992.65144669314"
   ]
  },
  {
   "cell_type": "code",
   "execution_count": 39,
   "id": "4b09b3df",
   "metadata": {
    "execution": {
     "iopub.execute_input": "2025-08-04T01:27:49.902502Z",
     "iopub.status.busy": "2025-08-04T01:27:49.902134Z",
     "iopub.status.idle": "2025-08-04T01:27:49.909536Z",
     "shell.execute_reply": "2025-08-04T01:27:49.908121Z"
    },
    "papermill": {
     "duration": 0.031394,
     "end_time": "2025-08-04T01:27:49.913366",
     "exception": false,
     "start_time": "2025-08-04T01:27:49.881972",
     "status": "completed"
    },
    "tags": []
   },
   "outputs": [
    {
     "name": "stdout",
     "output_type": "stream",
     "text": [
      "Predicted Salary: $93,747.80\n"
     ]
    },
    {
     "name": "stderr",
     "output_type": "stream",
     "text": [
      "/opt/conda/lib/python3.10/site-packages/sklearn/base.py:439: UserWarning: X does not have valid feature names, but LinearRegression was fitted with feature names\n",
      "  warnings.warn(\n"
     ]
    }
   ],
   "source": [
    "predicted_salary_1 = reg_2.predict([[12,10,10]])\n",
    "\n",
    "print(f'Predicted Salary: ${predicted_salary_1[0]:,.2f}')"
   ]
  },
  {
   "cell_type": "code",
   "execution_count": 40,
   "id": "b57e9e4c",
   "metadata": {
    "execution": {
     "iopub.execute_input": "2025-08-04T01:27:49.948100Z",
     "iopub.status.busy": "2025-08-04T01:27:49.947647Z",
     "iopub.status.idle": "2025-08-04T01:27:49.954107Z",
     "shell.execute_reply": "2025-08-04T01:27:49.952998Z"
    },
    "papermill": {
     "duration": 0.026961,
     "end_time": "2025-08-04T01:27:49.956257",
     "exception": false,
     "start_time": "2025-08-04T01:27:49.929296",
     "status": "completed"
    },
    "tags": []
   },
   "outputs": [
    {
     "data": {
      "text/plain": [
       "93747.79628653315"
      ]
     },
     "execution_count": 40,
     "metadata": {},
     "output_type": "execute_result"
    }
   ],
   "source": [
    "2922.26901502*12+2221.30909959*10+2147.48256637*10+14992.65144669314"
   ]
  },
  {
   "cell_type": "code",
   "execution_count": null,
   "id": "959d00b4",
   "metadata": {
    "papermill": {
     "duration": 0.016489,
     "end_time": "2025-08-04T01:27:49.989790",
     "exception": false,
     "start_time": "2025-08-04T01:27:49.973301",
     "status": "completed"
    },
    "tags": []
   },
   "outputs": [],
   "source": []
  }
 ],
 "metadata": {
  "kaggle": {
   "accelerator": "none",
   "dataSources": [],
   "dockerImageVersionId": 30746,
   "isGpuEnabled": false,
   "isInternetEnabled": true,
   "language": "python",
   "sourceType": "notebook"
  },
  "kernelspec": {
   "display_name": "Python 3 (ipykernel)",
   "language": "python",
   "name": "python3"
  },
  "language_info": {
   "codemirror_mode": {
    "name": "ipython",
    "version": 3
   },
   "file_extension": ".py",
   "mimetype": "text/x-python",
   "name": "python",
   "nbconvert_exporter": "python",
   "pygments_lexer": "ipython3",
   "version": "3.11.3"
  },
  "papermill": {
   "default_parameters": {},
   "duration": 10.558728,
   "end_time": "2025-08-04T01:27:50.627989",
   "environment_variables": {},
   "exception": null,
   "input_path": "__notebook__.ipynb",
   "output_path": "__notebook__.ipynb",
   "parameters": {},
   "start_time": "2025-08-04T01:27:40.069261",
   "version": "2.5.0"
  }
 },
 "nbformat": 4,
 "nbformat_minor": 5
}
